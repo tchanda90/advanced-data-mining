{
 "cells": [
  {
   "cell_type": "markdown",
   "metadata": {},
   "source": [
    "### Simple Statistics\n",
    "\n",
    "Let the following data set be given (sample size 60):\n",
    "\n",
    "4, 3, 2, 5, 4, 6, 3, 7, 4, 1, 4, 0, 6, 4, 3, 5, 2, 3, 5, 1, 4, 4, 9, 5, 4, 3, 3, 5, 2, 4, 3, 6, 5, 2, 6, 2, 4, 5, 5, 1, 5, 4, 4, 2, 7, 1, 3, 3, 4, 7, 3, 4, 4, 6, 6, 3, 3, 2, 6, 1.\n",
    "\n",
    "Calculate:\n",
    "- The mean\n",
    "- The mean recursively\n",
    "- The standard deviation over the sample"
   ]
  },
  {
   "cell_type": "markdown",
   "metadata": {},
   "source": [
    "The calculation of the mean and the standard deviation of a list of numbers is fairly straightforward.\n",
    "$$\\bar{x}=\\frac{\\sum_{k=1}^i x_k}{i}$$\n",
    "\n",
    "$$\\sigma=\\sqrt{\\frac{\\sum_{k=1}^i(x_k-\\bar{x})^2}{i}}$$"
   ]
  },
  {
   "cell_type": "code",
   "execution_count": 300,
   "metadata": {},
   "outputs": [
    {
     "name": "stdout",
     "output_type": "stream",
     "text": [
      "Sample mean    : 3.87\n",
      "Sample std dev : 1.77\n"
     ]
    }
   ],
   "source": [
    "import math\n",
    "\n",
    "numbers = [4, 3, 2, 5, 4, 6, 3, 7, 4, 1, 4, 0, 6, 4, 3, 5, 2, 3, 5, 1, 4, 4, 9, 5, 4, 3, 3, 5, 2, 4, 3, 6, 5, 2, \n",
    "                    6, 2, 4, 5, 5, 1, 5, 4, 4, 2, 7, 1, 3, 3, 4, 7, 3, 4, 4, 6, 6, 3, 3, 2, 6, 1]\n",
    "\n",
    "# calculate mean\n",
    "mean = sum(numbers) / len(numbers)\n",
    "\n",
    "# calculate std dev\n",
    "std_dev = math.sqrt(\n",
    "    sum([(x - mean)**2 for x in numbers]) \n",
    "    / len(numbers)\n",
    ")\n",
    "\n",
    "print('Sample mean    : %0.2f' % mean)\n",
    "print('Sample std dev : %0.2f' % std_dev)"
   ]
  },
  {
   "cell_type": "markdown",
   "metadata": {},
   "source": [
    "However, in streaming environments, x is **unbounded**, which makes it necessary to calculate these simple statistics **incrementaly**.\n",
    "\n",
    "To incrementally calculate the mean and standard deviation of a random variable x, we need to maintain three variables for x:\n",
    "- **LS (Linear Sum)**\n",
    "- **SS (Squared Sum)**\n",
    "- **N (Count)**\n",
    "\n",
    "This allows observations to be incrementally added.\n",
    "- LS = LS + $x_{i}$\n",
    "- SS = SS + $x_{i}^2$\n",
    "- N = N + 1\n",
    "\n",
    "As shown below, these three variables and their incremental additive properties are sufficient to calculate the mean and standard deviation of x in a streaming environment."
   ]
  },
  {
   "cell_type": "code",
   "execution_count": 301,
   "metadata": {},
   "outputs": [],
   "source": [
    "class Stream:\n",
    "    \n",
    "    def __init__(self):\n",
    "        self.ls = 0.0\n",
    "        self.ss = 0.0\n",
    "        self.n = 0.0\n",
    "    \n",
    "    def increment(self, x):\n",
    "        \"\"\"\n",
    "        Add x to the observations by incrementing the sufficient stats\n",
    "        \"\"\"\n",
    "        self.ls += x\n",
    "        self.ss += x**2\n",
    "        self.n += 1\n",
    "\n",
    "    def decrement(self, x):\n",
    "        \"\"\"\n",
    "        Remove x from the observations by decrementing the sufficient stats\n",
    "        \"\"\"\n",
    "        self.ls -= x\n",
    "        self.ss -= x**2\n",
    "        self.n -= 1\n",
    "    \n",
    "    def mean(self):\n",
    "        \"\"\"\n",
    "        Return mean of the observations by dividing LS by N\n",
    "        \"\"\"\n",
    "        return self.ls/self.n\n",
    "    \n",
    "    def std_dev(self):\n",
    "        \"\"\"\n",
    "        Return the standard deviation of the observations\n",
    "        \"\"\"\n",
    "        return math.sqrt((self.ss/self.n) - (self.ls/self.n)**2)\n",
    "    \n",
    "    def print_stats(self):\n",
    "        \"\"\"\n",
    "        Print the current values of the sufficient stats to the console\n",
    "        \"\"\"\n",
    "        print('Linear Sum  : %0.2f' % self.ls)\n",
    "        print('Squared Sum : %0.2f' % self.ss)\n",
    "        print('N           : %0.2f' % self.n)"
   ]
  },
  {
   "cell_type": "markdown",
   "metadata": {},
   "source": [
    "The mean can be calculated by:\n",
    "$$\\bar{x}=\\frac{LS}{N}$$\n",
    "And the standard deviation can be calculated by:\n",
    "$$\\sigma=\\sqrt{\\frac{SS - \\frac{LS^2}{N}}{N-1}}$$\n",
    "\n",
    "\n",
    "Below, we are incrementally adding three numbers to the sample, and calculating the mean and standard deviation of the observations in the stream"
   ]
  },
  {
   "cell_type": "code",
   "execution_count": 312,
   "metadata": {},
   "outputs": [
    {
     "name": "stdout",
     "output_type": "stream",
     "text": [
      "Linear Sum  : 9.00\n",
      "Squared Sum : 29.00\n",
      "N           : 3.00\n",
      "\n",
      "Mean: 3.00\n",
      "Standard Deviation: 0.82\n"
     ]
    }
   ],
   "source": [
    "stream = Stream()\n",
    "\n",
    "stream.increment(4)\n",
    "stream.increment(3)\n",
    "stream.increment(2)\n",
    "\n",
    "stream.print_stats()\n",
    "print()\n",
    "print('Mean: %0.2f' % stream.mean())\n",
    "print('Standard Deviation: %0.2f' % stream.std_dev())"
   ]
  },
  {
   "cell_type": "markdown",
   "metadata": {},
   "source": [
    "**Coming back to the original sample of 60 items:**\n",
    "\n",
    "**4, 3, 2, 5, 4, 6, 3, 7, 4, 1, 4, 0, 6, 4, 3, 5, 2, 3, 5, 1, 4, 4, 9, 5, 4, 3, 3, 5, 2, 4, 3, 6, 5, 2, 6, 2, 4, 5, 5, 1, 5, 4, 4, 2, 7, 1, 3, 3, 4, 7, 3, 4, 4, 6, 6, 3, 3, 2, 6, 1.**\n",
    "\n",
    "**Below, the items are incrementally added to the stream by updating the sufficient statistics, then the mean and standard deviation are printed.**"
   ]
  },
  {
   "cell_type": "code",
   "execution_count": 313,
   "metadata": {},
   "outputs": [
    {
     "name": "stdout",
     "output_type": "stream",
     "text": [
      "Linear Sum  : 232.00\n",
      "Squared Sum : 1086.00\n",
      "N           : 60.00\n",
      "\n",
      "Mean: 3.87\n",
      "Standard Deviation: 1.77\n"
     ]
    }
   ],
   "source": [
    "stream = Stream()\n",
    "\n",
    "for number in numbers:\n",
    "    stream.increment(number)\n",
    "stream.print_stats()\n",
    "print()\n",
    "print('Mean: %0.2f' % stream.mean())\n",
    "print('Standard Deviation: %0.2f' % stream.std_dev())"
   ]
  }
 ],
 "metadata": {
  "kernelspec": {
   "display_name": "Python 3",
   "language": "python",
   "name": "python3"
  },
  "language_info": {
   "codemirror_mode": {
    "name": "ipython",
    "version": 3
   },
   "file_extension": ".py",
   "mimetype": "text/x-python",
   "name": "python",
   "nbconvert_exporter": "python",
   "pygments_lexer": "ipython3",
   "version": "3.6.5"
  }
 },
 "nbformat": 4,
 "nbformat_minor": 2
}
